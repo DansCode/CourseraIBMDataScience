{
 "cells": [
  {
   "cell_type": "markdown",
   "id": "bc565ff9-3714-4663-8d00-6f25dc275593",
   "metadata": {},
   "source": [
    "# Business Problem\n",
    "A person wants to start a sandwich shop in Toronto. This person is very experienced at starting sandwich shops and has the business model, standard operating procedures, and financial planning in place. This person believes that they can offer an enticing menu while operating more efficiently than the competition. However, this will be the first of the person's shops in Toronto so they want to hit the market with high potency: this means that they want to be the best shop in the first area they open in so that sentiment toward their brand builds positively in a very quick manner.\n",
    "\n",
    "### Thus, our business problem is as follows:\n",
    "- Identify areas with relatively few sandwich shops\n",
    "- Identify areas with relatively low ratings on restaurants\n",
    "\n",
    "We will use the intersection of those areas to determine candidate neighborhoods to open up shop in. To break ties, if there are any, we will simulate personal whim and taste using a random choice in the end."
   ]
  },
  {
   "cell_type": "markdown",
   "id": "7e9209f1-2a88-411c-b34b-f7e8721c1455",
   "metadata": {},
   "source": [
    "# Data\n",
    "In addition to the neighborhood postal codes and GPS coordinates for Toronto that were used in previous parts of this project, we will pull data from the Foursquare API pertaining to the venues in each cluster of neighborhoods that were chosen previously. Clusters will be chosen so that deliveries within each cluster would take roughly 5 minutes at most.\n",
    "\n",
    "Data will be filtered and aggregated to determine:\n",
    "- How many restaurants there are\n",
    "    - more so, how many are sandwich shops\n",
    "- What the average rating for a restaurant is in a cluster.\n",
    "\n",
    "We will choose the areas with the lowest numbers on those metrics so that we can shock the market with excellence."
   ]
  },
  {
   "cell_type": "code",
   "execution_count": null,
   "id": "663ba23b-997e-41ba-994e-531805ddfc4b",
   "metadata": {},
   "outputs": [],
   "source": []
  }
 ],
 "metadata": {
  "kernelspec": {
   "display_name": "Python 3",
   "language": "python",
   "name": "python3"
  },
  "language_info": {
   "codemirror_mode": {
    "name": "ipython",
    "version": 3
   },
   "file_extension": ".py",
   "mimetype": "text/x-python",
   "name": "python",
   "nbconvert_exporter": "python",
   "pygments_lexer": "ipython3",
   "version": "3.9.5"
  }
 },
 "nbformat": 4,
 "nbformat_minor": 5
}
