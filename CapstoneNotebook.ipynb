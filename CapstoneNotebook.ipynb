{
 "cells": [
  {
   "cell_type": "markdown",
   "id": "e179a2e0-f268-489f-9c79-dabe7f1309fd",
   "metadata": {},
   "source": [
    "This is Dan Kim's notebook for the IBM Capstone Course on Coursera"
   ]
  },
  {
   "cell_type": "code",
   "execution_count": 1,
   "id": "3389164c-f191-47f9-aaa3-dfb3dad68301",
   "metadata": {},
   "outputs": [],
   "source": [
    "import pandas as pd\n",
    "import numpy as np"
   ]
  },
  {
   "cell_type": "code",
   "execution_count": 2,
   "id": "1427e3f5-43f8-4e5a-9aab-df514649cd26",
   "metadata": {},
   "outputs": [
    {
     "name": "stdout",
     "output_type": "stream",
     "text": [
      "Hello Capstone Project Course!\n"
     ]
    }
   ],
   "source": [
    "print(\"Hello Capstone Project Course!\")"
   ]
  },
  {
   "cell_type": "code",
   "execution_count": null,
   "id": "0b73870b-eaca-44ba-95b0-df2134026495",
   "metadata": {},
   "outputs": [],
   "source": []
  }
 ],
 "metadata": {
  "kernelspec": {
   "display_name": "Python 3",
   "language": "python",
   "name": "python3"
  },
  "language_info": {
   "codemirror_mode": {
    "name": "ipython",
    "version": 3
   },
   "file_extension": ".py",
   "mimetype": "text/x-python",
   "name": "python",
   "nbconvert_exporter": "python",
   "pygments_lexer": "ipython3",
   "version": "3.9.5"
  }
 },
 "nbformat": 4,
 "nbformat_minor": 5
}
